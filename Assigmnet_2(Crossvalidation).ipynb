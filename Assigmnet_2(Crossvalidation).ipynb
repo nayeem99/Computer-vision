{
  "nbformat": 4,
  "nbformat_minor": 0,
  "metadata": {
    "colab": {
      "name": " Assigmnet_2(Crossvalidation).ipynb",
      "provenance": [],
      "collapsed_sections": []
    },
    "kernelspec": {
      "name": "python3",
      "display_name": "Python 3"
    },
    "language_info": {
      "name": "python"
    }
  },
  "cells": [
    {
      "cell_type": "code",
      "metadata": {
        "id": "0pWjdqk5CULq"
      },
      "source": [
        "\n",
        "import tensorflow as tf\n",
        "from tensorflow import keras\n",
        "from tensorflow.keras import layers\n",
        "from tensorflow.keras.datasets import cifar10\n",
        "\n",
        "import os\n",
        "import numpy as np\n",
        "import matplotlib.pyplot as plt\n",
        "import cv2\n",
        "import os\n",
        "import random\n",
        "from tqdm import tqdm\n"
      ],
      "execution_count": 1,
      "outputs": []
    },
    {
      "cell_type": "markdown",
      "metadata": {
        "id": "F4saGGWjT2qa"
      },
      "source": [
        "**Loading Dataset**"
      ]
    },
    {
      "cell_type": "code",
      "metadata": {
        "id": "pqapVs2ICcoI"
      },
      "source": [
        "(X_train, Y_train), (X_test, Y_test) = cifar10.load_data()"
      ],
      "execution_count": 21,
      "outputs": []
    },
    {
      "cell_type": "markdown",
      "metadata": {
        "id": "L-a5e826T6h6"
      },
      "source": [
        "**Assign five folds**"
      ]
    },
    {
      "cell_type": "code",
      "metadata": {
        "id": "ShTwIlk_Cltn"
      },
      "source": [
        "n=0\n",
        "number1=0\n",
        "number2=10000\n",
        "foldList=list()\n",
        "while n<5:\n",
        "    a=list()\n",
        "    a.append(X_train[number1:number2])\n",
        "    a.append(Y_train[number1:number2])\n",
        "    number1+=10000\n",
        "    number2+=10000\n",
        "    n+=1\n",
        "    foldList.append(a)"
      ],
      "execution_count": 22,
      "outputs": []
    },
    {
      "cell_type": "code",
      "metadata": {
        "colab": {
          "base_uri": "https://localhost:8080/"
        },
        "id": "wS0SUgvODsN6",
        "outputId": "f1827e1a-398e-4325-f97c-672ee347ad15"
      },
      "source": [
        "print(len(foldList))"
      ],
      "execution_count": 5,
      "outputs": [
        {
          "output_type": "stream",
          "name": "stdout",
          "text": [
            "5\n"
          ]
        }
      ]
    },
    {
      "cell_type": "code",
      "metadata": {
        "id": "oS3d0mHYD2H2"
      },
      "source": [
        "data_batch1=foldList[0]\n",
        "data_batch2=foldList[1]\n",
        "data_batch3=foldList[2]\n",
        "data_batch4=foldList[3]\n",
        "data_batch5=foldList[4]"
      ],
      "execution_count": 23,
      "outputs": []
    },
    {
      "cell_type": "markdown",
      "metadata": {
        "id": "xyHnqN8nUFor"
      },
      "source": [
        "# **Implementing Folds Using L1**"
      ]
    },
    {
      "cell_type": "markdown",
      "metadata": {
        "id": "YThfsSZwUK26"
      },
      "source": [
        "**Fold 1**"
      ]
    },
    {
      "cell_type": "code",
      "metadata": {
        "colab": {
          "base_uri": "https://localhost:8080/"
        },
        "id": "pfqMo2JOD7g_",
        "outputId": "6bafdf2f-fa60-46b9-ef92-5e00f0b4ed16"
      },
      "source": [
        "# Test_img\n",
        "DataSelect=data_batch1\n",
        "selectedlist=list()\n",
        "data=DataSelect[0]\n",
        "datalabel=DataSelect[1]\n",
        "for i in range(data.shape[0]):\n",
        "    selectedlist.append((data[i],datalabel[i]))\n",
        "\n",
        "    \n",
        "#Train_img\n",
        "totallisttrain=list()\n",
        "datalist=[data_batch2,data_batch3,data_batch4,data_batch5]\n",
        "for j in datalist:\n",
        "    left=j[0]\n",
        "    \n",
        "    datalabel1=j[1]\n",
        "    for i in range(left.shape[0]):\n",
        "        totallisttrain.append((left[i],datalabel1[i]))\n",
        "        \n",
        "#Using KNN algorithm\n",
        "knnset=dict()\n",
        "for rr in tqdm(range(3)):\n",
        "    test=random.randint(0,9999)\n",
        "    for k in range(20):\n",
        "        totalimage=list()\n",
        "        for train in range(len(totallisttrain)):\n",
        "            test_img=selectedlist[test][0]\n",
        "            train_image=totallisttrain[train][0]\n",
        "            negative=test_img-train_image\n",
        "            modulas=np.absolute(negative)\n",
        "            totalsum=np.sum(modulas)\n",
        "            totalimage.append((totalsum,totallisttrain[train][1]))\n",
        "        sortedlist=sorted(totalimage,key=lambda x:x[0])\n",
        "        prediction=list()\n",
        "        for ab in range(k+1):\n",
        "            prediction.append(sortedlist[ab][1])\n",
        "        for img in range(len(prediction)):\n",
        "            if selectedlist[test][1]==prediction[img]:\n",
        "                knnset[k+1]=knnset.get(k+1, 0)+1\n",
        "        \n",
        "print(knnset.items())\n",
        "            \n",
        "        "
      ],
      "execution_count": 24,
      "outputs": [
        {
          "output_type": "stream",
          "name": "stderr",
          "text": [
            "100%|██████████| 3/3 [00:39<00:00, 13.27s/it]"
          ]
        },
        {
          "output_type": "stream",
          "name": "stdout",
          "text": [
            "dict_items([(1, 1), (2, 1), (3, 2), (4, 2), (5, 3), (6, 5), (7, 7), (8, 8), (9, 9), (10, 12), (11, 14), (12, 17), (13, 17), (14, 18), (15, 20), (16, 21), (17, 22), (18, 23), (19, 24), (20, 25)])\n"
          ]
        },
        {
          "output_type": "stream",
          "name": "stderr",
          "text": [
            "\n"
          ]
        }
      ]
    },
    {
      "cell_type": "markdown",
      "metadata": {
        "id": "Y7bHiEeWURyj"
      },
      "source": [
        "**Fold 2**"
      ]
    },
    {
      "cell_type": "code",
      "metadata": {
        "colab": {
          "base_uri": "https://localhost:8080/"
        },
        "id": "kFcHG7YkGn32",
        "outputId": "b51d88da-d048-481e-91ab-ab94916097d0"
      },
      "source": [
        "# Test_img\n",
        "DataSelect=data_batch2\n",
        "selectedlist=list()\n",
        "data=DataSelect[0]\n",
        "datalabel=DataSelect[1]\n",
        "for i in range(data.shape[0]):\n",
        "    selectedlist.append((data[i],datalabel[i]))\n",
        "\n",
        "    \n",
        "#Train_img\n",
        "totallisttrain=list()\n",
        "datalist=[data_batch1,data_batch3,data_batch4,data_batch5]\n",
        "for j in datalist:\n",
        "    left=j[0]\n",
        "    \n",
        "    datalabel1=j[1]\n",
        "    for i in range(left.shape[0]):\n",
        "        totallisttrain.append((left[i],datalabel1[i]))\n",
        "        \n",
        "#Using KNN algorithm\n",
        "knnset2=dict()\n",
        "for rr in tqdm(range(3)):\n",
        "    test=random.randint(0,9999)\n",
        "    for k in range(20):\n",
        "        totalimage=list()\n",
        "        for train in range(len(totallisttrain)):\n",
        "            test_img=selectedlist[test][0]\n",
        "            train_image=totallisttrain[train][0]\n",
        "            negative=test_img-train_image\n",
        "            modulas=np.absolute(negative)\n",
        "            totalsum=np.sum(modulas)\n",
        "            totalimage.append((totalsum,totallisttrain[train][1]))\n",
        "        sortedlist=sorted(totalimage,key=lambda x:x[0])\n",
        "        prediction=list()\n",
        "        for ab in range(k+1):\n",
        "            prediction.append(sortedlist[ab][1])\n",
        "        for img in range(len(prediction)):\n",
        "            if selectedlist[test][1]==prediction[img]:\n",
        "                knnset2[k+1]=knnset2.get(k+1, 0)+1\n",
        "        \n",
        "print(knnset2.items())"
      ],
      "execution_count": 25,
      "outputs": [
        {
          "output_type": "stream",
          "name": "stderr",
          "text": [
            "100%|██████████| 3/3 [00:39<00:00, 13.25s/it]"
          ]
        },
        {
          "output_type": "stream",
          "name": "stdout",
          "text": [
            "dict_items([(1, 1), (2, 3), (3, 3), (4, 4), (5, 5), (6, 7), (7, 8), (8, 8), (9, 9), (10, 10), (11, 11), (12, 12), (13, 14), (14, 15), (15, 17), (16, 19), (17, 20), (18, 21), (19, 22), (20, 24)])\n"
          ]
        },
        {
          "output_type": "stream",
          "name": "stderr",
          "text": [
            "\n"
          ]
        }
      ]
    },
    {
      "cell_type": "markdown",
      "metadata": {
        "id": "7UN4P75qUVZa"
      },
      "source": [
        "**Fold 3**"
      ]
    },
    {
      "cell_type": "code",
      "metadata": {
        "colab": {
          "base_uri": "https://localhost:8080/"
        },
        "id": "Zii8DiNPHLOQ",
        "outputId": "b8914d5a-e150-4c1f-d66a-012010d34973"
      },
      "source": [
        "# Test_img\n",
        "DataSelect=data_batch3\n",
        "selectedlist=list()\n",
        "data=DataSelect[0]\n",
        "datalabel=DataSelect[1]\n",
        "for i in range(data.shape[0]):\n",
        "    selectedlist.append((data[i],datalabel[i]))\n",
        "\n",
        "    \n",
        "#Train_img\n",
        "totallisttrain=list()\n",
        "datalist=[data_batch1,data_batch2,data_batch4,data_batch5]\n",
        "for j in datalist:\n",
        "    left=j[0]\n",
        "    \n",
        "    datalabel1=j[1]\n",
        "    for i in range(left.shape[0]):\n",
        "        totallisttrain.append((left[i],datalabel1[i]))\n",
        "        \n",
        "#Using KNN algorithm\n",
        "knnset3=dict()\n",
        "for rr in tqdm(range(3)):\n",
        "    test=random.randint(0,9999)\n",
        "    for k in range(20):\n",
        "        totalimage=list()\n",
        "        for train in range(len(totallisttrain)):\n",
        "            test_img=selectedlist[test][0]\n",
        "            train_image=totallisttrain[train][0]\n",
        "            negative=test_img-train_image\n",
        "            modulas=np.absolute(negative)\n",
        "            totalsum=np.sum(modulas)\n",
        "            totalimage.append((totalsum,totallisttrain[train][1]))\n",
        "        sortedlist=sorted(totalimage,key=lambda x:x[0])\n",
        "        prediction=list()\n",
        "        for ab in range(k+1):\n",
        "            prediction.append(sortedlist[ab][1])\n",
        "        for img in range(len(prediction)):\n",
        "            if selectedlist[test][1]==prediction[img]:\n",
        "                knnset3[k+1]=knnset3.get(k+1, 0)+1\n",
        "        \n",
        "print(knnset3.items())\n"
      ],
      "execution_count": 26,
      "outputs": [
        {
          "output_type": "stream",
          "name": "stderr",
          "text": [
            "100%|██████████| 3/3 [00:39<00:00, 13.31s/it]"
          ]
        },
        {
          "output_type": "stream",
          "name": "stdout",
          "text": [
            "dict_items([(1, 1), (2, 2), (3, 4), (4, 6), (5, 7), (6, 7), (7, 8), (8, 9), (9, 11), (10, 12), (11, 13), (12, 13), (13, 15), (14, 15), (15, 16), (16, 17), (17, 18), (18, 19), (19, 19), (20, 21)])\n"
          ]
        },
        {
          "output_type": "stream",
          "name": "stderr",
          "text": [
            "\n"
          ]
        }
      ]
    },
    {
      "cell_type": "markdown",
      "metadata": {
        "id": "4sp7oM0tUX-S"
      },
      "source": [
        "**Fold 4**"
      ]
    },
    {
      "cell_type": "code",
      "metadata": {
        "colab": {
          "base_uri": "https://localhost:8080/"
        },
        "id": "3ZPpQT6pHevO",
        "outputId": "965cf9d5-1b0d-436a-fbc8-288668599070"
      },
      "source": [
        "# Test_img\n",
        "DataSelect=data_batch4\n",
        "selectedlist=list()\n",
        "data=DataSelect[0]\n",
        "datalabel=DataSelect[1]\n",
        "for i in range(data.shape[0]):\n",
        "    selectedlist.append((data[i],datalabel[i]))\n",
        "\n",
        "    \n",
        "#Train_img\n",
        "totallisttrain=list()\n",
        "datalist=[data_batch1,data_batch2,data_batch3,data_batch5]\n",
        "for j in datalist:\n",
        "    left=j[0]\n",
        "   \n",
        "    datalabel1=j[1]\n",
        "    for i in range(left.shape[0]):\n",
        "        totallisttrain.append((left[i],datalabel1[i]))\n",
        "        \n",
        "#Using KNN algorithm\n",
        "knnset4=dict()\n",
        "for rr in tqdm(range(3)):\n",
        "    test=random.randint(0,9999)\n",
        "    for k in range(20):\n",
        "        totalimage=list()\n",
        "        for train in range(len(totallisttrain)):\n",
        "            test_img=selectedlist[test][0]\n",
        "            train_image=totallisttrain[train][0]\n",
        "            negative=test_img-train_image\n",
        "            modulas=np.absolute(negative)\n",
        "            totalsum=np.sum(modulas)\n",
        "            totalimage.append((totalsum,totallisttrain[train][1]))\n",
        "        sortedlist=sorted(totalimage,key=lambda x:x[0])\n",
        "        prediction=list()\n",
        "        for ab in range(k+1):\n",
        "            prediction.append(sortedlist[ab][1])\n",
        "        for img in range(len(prediction)):\n",
        "            if selectedlist[test][1]==prediction[img]:\n",
        "                knnset4[k+1]=knnset4.get(k+1, 0)+1\n",
        "        \n",
        "print(knnset4.items())\n"
      ],
      "execution_count": 27,
      "outputs": [
        {
          "output_type": "stream",
          "name": "stderr",
          "text": [
            "100%|██████████| 3/3 [00:40<00:00, 13.53s/it]"
          ]
        },
        {
          "output_type": "stream",
          "name": "stdout",
          "text": [
            "dict_items([(2, 2), (3, 3), (4, 3), (5, 4), (6, 5), (7, 6), (8, 6), (9, 6), (10, 6), (11, 6), (12, 7), (13, 7), (14, 9), (15, 9), (16, 9), (17, 10), (18, 10), (19, 10), (20, 10)])\n"
          ]
        },
        {
          "output_type": "stream",
          "name": "stderr",
          "text": [
            "\n"
          ]
        }
      ]
    },
    {
      "cell_type": "markdown",
      "metadata": {
        "id": "WVxkQzGTUakL"
      },
      "source": [
        "**Fold 5**"
      ]
    },
    {
      "cell_type": "code",
      "metadata": {
        "colab": {
          "base_uri": "https://localhost:8080/"
        },
        "id": "sP3DHSepH2X8",
        "outputId": "f1f88db3-33d2-417f-cd7b-32a00f741594"
      },
      "source": [
        "# Test_img\n",
        "DataSelect=data_batch5\n",
        "selectedlist=list()\n",
        "data=DataSelect[0]\n",
        "datalabel=DataSelect[1]\n",
        "for i in range(data.shape[0]):\n",
        "    selectedlist.append((data[i],datalabel[i]))\n",
        "\n",
        "    \n",
        "#Train_img\n",
        "totallisttrain=list()\n",
        "datalist=[data_batch1,data_batch2,data_batch3,data_batch4]\n",
        "for j in datalist:\n",
        "    left=j[0]\n",
        "    \n",
        "    datalabel1=j[1]\n",
        "    for i in range(left.shape[0]):\n",
        "        totallisttrain.append((left[i],datalabel1[i]))\n",
        "        \n",
        "#Using KNN algorithm\n",
        "knnset5=dict()\n",
        "for rr in tqdm(range(3)):\n",
        "    test=random.randint(0,9999)\n",
        "    for k in range(20):\n",
        "        totalimage=list()\n",
        "        for train in range(len(totallisttrain)):\n",
        "            test_img=selectedlist[test][0]\n",
        "            train_image=totallisttrain[train][0]\n",
        "            negative=test_img-train_image\n",
        "            modulas=np.absolute(negative)\n",
        "            totalsum=np.sum(modulas)\n",
        "            totalimage.append((totalsum,totallisttrain[train][1]))\n",
        "        sortedlist=sorted(totalimage,key=lambda x:x[0])\n",
        "        prediction=list()\n",
        "        for ab in range(k+1):\n",
        "            prediction.append(sortedlist[ab][1])\n",
        "        for img in range(len(prediction)):\n",
        "            if selectedlist[test][1]==prediction[img]:\n",
        "                knnset5[k+1]=knnset5.get(k+1, 0)+1\n",
        "        \n",
        "print(knnset5.items())\n"
      ],
      "execution_count": 28,
      "outputs": [
        {
          "output_type": "stream",
          "name": "stderr",
          "text": [
            "100%|██████████| 3/3 [00:40<00:00, 13.60s/it]"
          ]
        },
        {
          "output_type": "stream",
          "name": "stdout",
          "text": [
            "dict_items([(2, 2), (3, 3), (4, 4), (5, 5), (6, 7), (7, 8), (8, 8), (9, 10), (10, 10), (11, 11), (12, 13), (13, 14), (14, 14), (15, 16), (16, 17), (17, 19), (18, 21), (19, 23), (20, 24)])\n"
          ]
        },
        {
          "output_type": "stream",
          "name": "stderr",
          "text": [
            "\n"
          ]
        }
      ]
    },
    {
      "cell_type": "markdown",
      "metadata": {
        "id": "eSf5xiKfUe4j"
      },
      "source": [
        "**Using all Folds to plotting graph**"
      ]
    },
    {
      "cell_type": "code",
      "metadata": {
        "colab": {
          "base_uri": "https://localhost:8080/"
        },
        "id": "1yNAiTD8INs1",
        "outputId": "7e24d1fc-c4fc-4f45-a810-677aa5145df9"
      },
      "source": [
        "dictionary=dict()\n",
        "for i in range(20):\n",
        "    dictionary[i+1]=(knnset.get(i+1,0)+knnset2.get(i+1,0)+knnset3.get(i+1,0)+knnset4.get(i+1,0)+knnset5.get(i+1,0))\n",
        "accuracy=list()\n",
        "for j in range(20):\n",
        "    accuracy.append(float(format(dictionary[j+1]*100/((j+1)*3*5),'.2f')))\n",
        "print(accuracy)"
      ],
      "execution_count": 29,
      "outputs": [
        {
          "output_type": "stream",
          "name": "stdout",
          "text": [
            "[20.0, 33.33, 33.33, 31.67, 32.0, 34.44, 35.24, 32.5, 33.33, 33.33, 33.33, 34.44, 34.36, 33.81, 34.67, 34.58, 34.9, 34.81, 34.39, 34.67]\n"
          ]
        }
      ]
    },
    {
      "cell_type": "code",
      "metadata": {
        "colab": {
          "base_uri": "https://localhost:8080/",
          "height": 312
        },
        "id": "bmhDr7PNIYor",
        "outputId": "4bc11be6-60c6-4e8a-ab1e-bf7fe3e73789"
      },
      "source": [
        "plt.plot(accuracy)\n",
        "plt.title(\"Cross-Validation on k\")\n",
        "plt.xlabel(\"K\")\n",
        "plt.ylabel(\"Cross-Validation  Accuracy\")"
      ],
      "execution_count": 30,
      "outputs": [
        {
          "output_type": "execute_result",
          "data": {
            "text/plain": [
              "Text(0, 0.5, 'Cross-Validation  Accuracy')"
            ]
          },
          "metadata": {},
          "execution_count": 30
        },
        {
          "output_type": "display_data",
          "data": {
            "image/png": "[encoded data removed]",
            "text/plain": [
              "<Figure size 432x288 with 1 Axes>"
            ]
          },
          "metadata": {
            "needs_background": "light"
          }
        }
      ]
    }
  ]
}